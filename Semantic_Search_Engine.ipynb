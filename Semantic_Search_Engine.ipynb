{
 "cells": [
  {
   "cell_type": "markdown",
   "id": "791dee50",
   "metadata": {},
   "source": [
    "# Semantic Search Engine\n",
    "\n",
    "This notebook demonstrates how to implement a semantic search engine using OpenAI's word embeddings. We will compute `embeddings` for product descriptions and names, store them, and perform semantic search to find the most relevant results for a given query.\n"
   ]
  },
  {
   "cell_type": "markdown",
   "id": "d9735e36",
   "metadata": {},
   "source": [
    "## Libraries/packages used\n",
    "\n",
    "* [<code style=\"color:blue;\">openai:</code>](https://platform.openai.com/docs/) The core library for accessing OpenAI’s models \n",
    "\n",
    "* [<code style=\"color:blue;\">numpy:</code>](https://numpy.org/doc/) A powerful library for numerical computing, providing support for multi-dimensional arrays, mathematical functions, and array operations\n",
    "\n",
    "* [<code style=\"color:blue;\">pandas:</code>](https://pandas.pydata.org/pandas-docs/stable/) A library for data manipulation and analysis, offering data structures like DataFrame and Series for handling structured data\n",
    "\n",
    "* [<code style=\"color:blue;\">getpass:</code>](https://docs.python.org/3/library/getpass.html) Allows secure entry of passwords or sensitive input without displaying it on the console\n",
    "\n",
    "To run this code on your local machine, please run the following commands in your command line tool.\n",
    "* `pip install openai -q`\n",
    "* `pip install numpy -q`\n",
    "* `pip install pandas -q`\n",
    "* `pip install getpass`"
   ]
  },
  {
   "cell_type": "markdown",
   "id": "c09829f2",
   "metadata": {},
   "source": [
    "<a id='TOC'></a>\n",
    "### **Table of contents**\n",
    "\n",
    "1. <a href=\"#setup\">Setting up OpenAI API</a><br>\n",
    "2. <a href=\"#read_data\">Reading the dataset</a><br>\n",
    "3. <a href=\"#compute_embeddings\">Calculating word embeddings</a><br>\n",
    "4. <a href=\"#save_embeddings\">Saving word embeddings</a><br>\n",
    "5. <a href=\"#semantic_search\">Performing semantic search</a><br>\n",
    "    5.1. <a href=\"#cosine_similarity\">Calculating cosine similarity</a><br>\n",
    "    5.2. <a href=\"#results\">Sorting and displaying results</a><br>"
   ]
  },
  {
   "cell_type": "markdown",
   "id": "683663df",
   "metadata": {},
   "source": [
    "<a id='setup'></a>\n",
    "## **1. Setting up OpenAI API**  \n",
    "[Back to table of contents](#TOC)  \n",
    "\n",
    "* [<code style=\"color:blue;\">warnings</code>](https://docs.python.org/3/library/warnings.html)  "
   ]
  },
  {
   "cell_type": "code",
   "id": "bd8ecd48",
   "metadata": {
    "ExecuteTime": {
     "end_time": "2025-07-14T22:20:29.328472Z",
     "start_time": "2025-07-14T22:20:25.881806Z"
    }
   },
   "source": [
    "# import required libraries\n",
    "import openai\n",
    "import pandas as pd\n",
    "import numpy as np\n",
    "from getpass import getpass\n",
    "\n",
    "# used for suppressing warnings\n",
    "import warnings\n",
    "warnings.filterwarnings(\"ignore\")\n",
    "\n",
    "# enter OpenAI API key securely\n",
    "openai.api_key = getpass('Enter OpenAI API key:')"
   ],
   "outputs": [],
   "execution_count": 3
  },
  {
   "cell_type": "markdown",
   "id": "f7cb3800",
   "metadata": {},
   "source": [
    "<a id='read_data'></a>\n",
    "## **2. Reading the dataset**  \n",
    "[Back to table of contents](#TOC)  \n",
    "\n",
    "We’ve set up OpenAI, so let's start by working with a CSV file containing product data. The dataset includes details about various products, such as `product ID`, `name`, `URL`, `description`, `price`, `color`, `inventory count`, `sale status`, `promotions`, and related keywords. The products range from clothing items like jeans and footwear to accessories like hats and handbags, for both men and women.\n",
    "\n",
    "* [<code style=\"color:blue;\">read_csv</code>](https://pandas.pydata.org/pandas-docs/stable/reference/api/pandas.read_csv.html) "
   ]
  },
  {
   "cell_type": "code",
   "id": "2219adb0",
   "metadata": {},
   "source": [
    "# load the data into a pandas dataframe\n",
    "df = pd.read_csv('data/product/data.csv')\n",
    "\n",
    "# display the data\n",
    "df.head()"
   ],
   "outputs": [],
   "execution_count": null
  },
  {
   "cell_type": "code",
   "execution_count": null,
   "id": "53d19659",
   "metadata": {
    "scrolled": true
   },
   "outputs": [],
   "source": [
    "# display shape of data\n",
    "print(f\"Dataset shape: {df.shape}\")"
   ]
  },
  {
   "cell_type": "code",
   "execution_count": null,
   "id": "2549d293",
   "metadata": {},
   "outputs": [],
   "source": [
    "# displaying the 'Gender' column from the DataFrame\n",
    "df['value/Gender']"
   ]
  },
  {
   "cell_type": "markdown",
   "id": "5140b44c",
   "metadata": {},
   "source": [
    "<a id='compute_embeddings'></a>\n",
    "## **3. Calculating word embeddings**  \n",
    "[Back to table of contents](#TOC)  \n",
    "\n",
    "To perform semantic search using word embeddings, we convert words into numerical representations. We use OpenAI's `get_embedding` function to compute these embeddings. Since our words are stored in a `pandas` DataFrame, we apply the `get_embedding` function to each row using the `apply` method. The calculated embeddings are then saved in a file called `word_embeddings.csv` to avoid making repeated API calls.\n",
    "* [<code style=\"color:blue;\">rename</code>](https://pandas.pydata.org/pandas-docs/stable/reference/api/pandas.DataFrame.rename.html) "
   ]
  },
  {
   "cell_type": "code",
   "execution_count": null,
   "id": "3c08669f",
   "metadata": {},
   "outputs": [],
   "source": [
    "# rename columns for clarity\n",
    "df = df.rename(columns={\n",
    "    'value/description': 'Description',\n",
    "    'value/productName': 'ProductName',\n",
    "    'value/productID': 'ProductID',\n",
    "    'value/productURL': 'ProductURL',\n",
    "    'value/img_url': 'ImageURL'\n",
    "})\n",
    "df.head()"
   ]
  },
  {
   "cell_type": "code",
   "execution_count": null,
   "id": "02ad8d38",
   "metadata": {
    "scrolled": true
   },
   "outputs": [],
   "source": [
    "# select required columns\n",
    "df1 = df[['ProductID', 'ProductName', 'ProductURL', 'Description', 'ImageURL']]\n",
    "df1.head()"
   ]
  },
  {
   "cell_type": "markdown",
   "id": "3c6823ae",
   "metadata": {},
   "source": [
    "Now we add two other columns. The first new column, `embedding1`, contains the embeddings for the text present in the `ProductName` column, and the second new column, `embedding2`, contains the embeddings for the text in the `Description` column. The embeddings are generated using the `text-embedding-ada-002` engine.\n",
    "\n",
    "* [<code style=\"color:blue;\">OpenAI</code>](https://python.langchain.com/api_reference/openai/llms/langchain_openai.llms.base.OpenAI.html#langchain_openai.llms.base.OpenAI) \n",
    "* [<code style=\"color:blue;\">apply</code>](https://pandas.pydata.org/pandas-docs/stable/reference/api/pandas.DataFrame.apply.html)"
   ]
  },
  {
   "cell_type": "code",
   "execution_count": null,
   "id": "383cc002",
   "metadata": {},
   "outputs": [],
   "source": [
    "# define a function to get embeddings\n",
    "from openai import OpenAI\n",
    "client = OpenAI(api_key=openai.api_key)\n",
    "\n",
    "def get_embedding(text, engine=\"text-embedding-ada-002\"):\n",
    "    # replace newlines and retrieve the embedding\n",
    "    text = text.replace(\"\\n\", \" \")\n",
    "    return client.embeddings.create(input=[text], model=engine).data[0].embedding\n",
    "\n",
    "# calculate embeddings for product name and description\n",
    "df1['embedding1'] = df1['ProductName'].apply(lambda x: get_embedding(x, engine=\"text-embedding-ada-002\"))\n",
    "df1['embedding2'] = df1['Description'].apply(lambda x: get_embedding(x, engine=\"text-embedding-ada-002\"))\n",
    "\n",
    "print(\"Embeddings successfully calculated.\")"
   ]
  },
  {
   "cell_type": "markdown",
   "id": "6a10de44",
   "metadata": {},
   "source": [
    "<a id='save_embeddings'></a>\n",
    "## 4. Saving word embeddings  \n",
    "[Back to table of contents](#TOC)  \n",
    "\n",
    "We store the calculated word embeddings in a new text file called `word_embeddings.csv` so that we don't have to call OpenAI again to perform these calculations.\n",
    "\n",
    "* [<code style=\"color:blue;\">to_csv</code>](https://pandas.pydata.org/pandas-docs/stable/reference/api/pandas.DataFrame.to_csv.html) "
   ]
  },
  {
   "cell_type": "code",
   "execution_count": null,
   "id": "4b30b890",
   "metadata": {},
   "outputs": [],
   "source": [
    "# save embeddings to a CSV file\n",
    "df1.to_csv('data/product/word_embeddings.csv')\n",
    "print(\"Embeddings saved to word_embeddings.csv\")"
   ]
  },
  {
   "cell_type": "code",
   "execution_count": null,
   "id": "2c19ef57",
   "metadata": {
    "scrolled": true
   },
   "outputs": [],
   "source": [
    "df1.head()"
   ]
  },
  {
   "cell_type": "markdown",
   "id": "905b7021",
   "metadata": {},
   "source": [
    "<a id='semantic_search'></a>\n",
    "## 5. Performing semantic search\n",
    "[Back to table of contents](#TOC)  \n",
    "\n",
    "Now that we have saved our word embeddings, we can load them into a new DataFrame for semantic search. Since the `embedding` values in the CSV are stored as strings, we'll use the `apply()` function to evaluate these strings as Python code and convert them into numpy arrays, allowing us to perform calculations.\n",
    "\n",
    "* [<code style=\"color:blue;\">np.array</code>](https://numpy.org/doc/stable/reference/generated/numpy.array.html)"
   ]
  },
  {
   "cell_type": "code",
   "execution_count": null,
   "id": "ac9b8762",
   "metadata": {},
   "outputs": [],
   "source": [
    "# load embeddings\n",
    "df = pd.read_csv('data/product/word_embeddings.csv')"
   ]
  },
  {
   "cell_type": "code",
   "execution_count": null,
   "id": "04a5b8a4",
   "metadata": {
    "scrolled": true
   },
   "outputs": [],
   "source": [
    "# convert embedding columns back to numpy arrays\n",
    "df['embedding1'] = df['embedding1'].apply(eval).apply(np.array)\n",
    "df['embedding2'] = df['embedding2'].apply(eval).apply(np.array)\n",
    "df.head()"
   ]
  },
  {
   "cell_type": "markdown",
   "id": "df50dd9d",
   "metadata": {},
   "source": [
    "We create a new column in our DataFrame named `embeddings` by adding the `embedding1` and `embedding2` arrays element-wise. This could be useful for further analysis or computations."
   ]
  },
  {
   "cell_type": "code",
   "execution_count": null,
   "id": "4754a1a8",
   "metadata": {
    "scrolled": true
   },
   "outputs": [],
   "source": [
    "# combine embeddings for analysis\n",
    "df['embeddings'] = df['embedding1'] + df['embedding2']\n",
    "df.head()\n",
    "\n",
    "print(\"Embeddings loaded and combined successfully.\")"
   ]
  },
  {
   "cell_type": "code",
   "execution_count": null,
   "id": "4b73b7dd",
   "metadata": {
    "scrolled": false
   },
   "outputs": [],
   "source": [
    "df['ImageURL'] = df['ImageURL'].str.replace('#STORAGE_ACCOUNT_NAME#', 'stretailprod')"
   ]
  },
  {
   "cell_type": "markdown",
   "id": "7e9a7888",
   "metadata": {},
   "source": [
    "<a id='cosine_similarity'></a>\n",
    "### 5.1. Calculating cosine similarity \n",
    "[Back to table of contents](#TOC)  \n",
    "\n",
    "We calculate cosine similarity between a user-provided search term and the product embeddings.  \n",
    "The code now prompts the user to enter a search term. This will be used to perform a semantic search in the dataset to find similar embeddings.\n",
    "\n",
    "* [<code style=\"color:blue;\">input</code>](https://docs.python.org/3/library/functions.html#input) "
   ]
  },
  {
   "cell_type": "code",
   "execution_count": null,
   "id": "ee76069e",
   "metadata": {},
   "outputs": [],
   "source": [
    "# take search input\n",
    "search_term = input(\"Enter a search term: \")"
   ]
  },
  {
   "cell_type": "markdown",
   "id": "b5de194e",
   "metadata": {},
   "source": [
    "To perform the semantic search, we use OpenAI's embeddings utility. We call `get_embedding` with the user's input search term and specify the engine as `text-embedding-ada-002`. This function retrieves the embedding vector for the search term."
   ]
  },
  {
   "cell_type": "code",
   "execution_count": null,
   "id": "8fd169e6",
   "metadata": {},
   "outputs": [],
   "source": [
    "# calculate embedding for the search term\n",
    "search_term_vector = get_embedding(search_term, engine=\"text-embedding-ada-002\")"
   ]
  },
  {
   "cell_type": "markdown",
   "id": "f21b315e",
   "metadata": {},
   "source": [
    "In this step, we calculate cosine similarities between the search term vector and the `embeddings` column for each row in the DataFrame. The result is stored in a new column called `similarities`. Cosine similarity is a measure of how similar two vectors are, and it's often used in text and vector-based search to find similarities between data points.\n",
    "\n",
    "* [<code style=\"color:blue;\">cosine</code>](https://docs.scipy.org/doc/scipy-1.15.0/reference/generated/scipy.spatial.distance.cosine.html)"
   ]
  },
  {
   "cell_type": "code",
   "execution_count": null,
   "id": "8077b0ff",
   "metadata": {},
   "outputs": [],
   "source": [
    "# calculate cosine similarity\n",
    "from scipy.spatial.distance import cosine\n",
    "\n",
    "df[\"similarities\"] = df['embeddings'].apply(lambda x: 1 - cosine(x, search_term_vector))\n",
    "print(\"Cosine similarity calculated for search term.\")"
   ]
  },
  {
   "cell_type": "markdown",
   "id": "ba433574",
   "metadata": {},
   "source": [
    "<a id='results'></a>\n",
    "### 5.2. Sorting and displaying results  \n",
    "[Back to table of contents](#TOC)  \n",
    "\n",
    "Now,we are sorting the DataFrame `df` by the `similarities` column in descending order (highest similarity first) using the `sort_values` method. The result is stored in the `result` DataFrame, which will contain the top 10 rows with the highest similarity scores.\n",
    "\n",
    "* [<code style=\"color:blue;\">sort_values</code>](https://pandas.pydata.org/pandas-docs/stable/reference/api/pandas.DataFrame.sort_values.html)"
   ]
  },
  {
   "cell_type": "code",
   "execution_count": null,
   "id": "fdd7a394",
   "metadata": {},
   "outputs": [],
   "source": [
    "# sort results based on similarity\n",
    "result = df.sort_values(\"similarities\", ascending=False).head(10)\n",
    "\n",
    "# display top product names\n",
    "print(\"Top 10 similar products:\")\n",
    "print(result[['ProductName', 'Description', 'similarities']])"
   ]
  },
  {
   "cell_type": "code",
   "execution_count": null,
   "id": "1b977ba1",
   "metadata": {},
   "outputs": [],
   "source": []
  }
 ],
 "metadata": {
  "kernelspec": {
   "display_name": "Python 3 (ipykernel)",
   "language": "python",
   "name": "python3"
  },
  "language_info": {
   "codemirror_mode": {
    "name": "ipython",
    "version": 3
   },
   "file_extension": ".py",
   "mimetype": "text/x-python",
   "name": "python",
   "nbconvert_exporter": "python",
   "pygments_lexer": "ipython3",
   "version": "3.11.4"
  }
 },
 "nbformat": 4,
 "nbformat_minor": 5
}
